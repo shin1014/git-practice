{
  "cells": [
    {
      "cell_type": "markdown",
      "metadata": {
        "id": "view-in-github",
        "colab_type": "text"
      },
      "source": [
        "<a href=\"https://colab.research.google.com/github/shin1014/git-practice/blob/master/19122030_%E7%94%B0%E4%B8%AD%E6%85%8E%E5%A4%AA%E9%83%8E_%E8%AA%B2%E9%A1%8C1.ipynb\" target=\"_parent\"><img src=\"https://colab.research.google.com/assets/colab-badge.svg\" alt=\"Open In Colab\"/></a>"
      ]
    },
    {
      "cell_type": "markdown",
      "metadata": {
        "id": "4kQGMpm8dpp5"
      },
      "source": [
        "scikit-learn付属のデータセットのうち、wineデータセットを用いる。"
      ]
    },
    {
      "cell_type": "code",
      "execution_count": null,
      "metadata": {
        "id": "QuueKB8d9dFI"
      },
      "outputs": [],
      "source": [
        "import numpy as np\n",
        "import matplotlib.pyplot as plt\n",
        "from sklearn.svm import SVC\n",
        "from sklearn.datasets import load_wine\n",
        "from sklearn.model_selection import GridSearchCV\n",
        "from sklearn.model_selection import train_test_split\n",
        "import matplotlib.pyplot as plt\n",
        "from sklearn.preprocessing import StandardScaler\n",
        "\n",
        "wine = load_wine()\n",
        "scaler = StandardScaler()\n",
        "\n",
        "X = wine.data\n",
        "y = wine.target\n",
        "(X_train, X_test, y_train, y_test) = train_test_split(X, y, test_size=0.3, random_state=0)"
      ]
    },
    {
      "cell_type": "markdown",
      "metadata": {
        "id": "NshIzSigW7Lv"
      },
      "source": [
        "まずはデフォルトのデフォルトのSVCによるaccuracyを測定する。"
      ]
    },
    {
      "cell_type": "code",
      "execution_count": null,
      "metadata": {
        "colab": {
          "base_uri": "https://localhost:8080/"
        },
        "id": "fssZnO-XeGtA",
        "outputId": "137e4be6-becb-4849-a4ec-6433b996e9ba"
      },
      "outputs": [
        {
          "output_type": "stream",
          "name": "stdout",
          "text": [
            "accuracy = 0.7778\n"
          ]
        }
      ],
      "source": [
        "clf = SVC()\n",
        "clf.fit(X_train,y_train)\n",
        "base_score = clf.score(X_test, y_test)\n",
        "print(f'accuracy = {base_score:.4}')"
      ]
    },
    {
      "cell_type": "markdown",
      "metadata": {
        "id": "Nl96DYAkdtN_"
      },
      "source": [
        "次に、カーネルをハイパーパラメータをグリッドサーチによりチューニングする。\n",
        "SVCの持つハイパーパラメータのうち、以下のパラメータをその対象とした。\n",
        "・\"C\": 正則化パラメータ。大きいほど誤分類を許容しなくなる。\n",
        "・\"degree\": \"kernel\"を多項式カーネル\"poly\"に指定した場合のみ用いられる、多項式の次数を指定するパラメータ。データの複雑さに応じて適切に値を定める必要がある。\n",
        "・\"gamma\": \"rbf\"，\"poly\"をカーネルに用いた場合のカーネル関数の係数。データの複雑さに応じて適切に値を定める必要がある。"
      ]
    },
    {
      "cell_type": "code",
      "execution_count": null,
      "metadata": {
        "id": "knta7Nm_e358",
        "colab": {
          "base_uri": "https://localhost:8080/"
        },
        "outputId": "c39ed5cd-6327-4c32-ec8a-e50fd35851fa"
      },
      "outputs": [
        {
          "output_type": "stream",
          "name": "stdout",
          "text": [
            "accuracy = 0.96296\n",
            "SVC(C=10000, gamma=1e-05)\n"
          ]
        }
      ],
      "source": [
        "svc = SVC(kernel=\"rbf\")\n",
        "parameters = {\"C\": [10 ** i for i in range(-5, 5)],\n",
        "            'gamma': [10 ** i for i in range(-5, 1)], \n",
        "            }\n",
        "clf = GridSearchCV(svc,parameters)\n",
        "clf.fit(X_train, y_train)\n",
        "print(f'accuracy = {clf.score(X_test, y_test):.5}')\n",
        "rbf_best = clf.best_estimator_\n",
        "print(rbf_best)"
      ]
    },
    {
      "cell_type": "markdown",
      "metadata": {
        "id": "i-h0-pMBdlNJ"
      },
      "source": [
        "得られた最適パラメータが探索範囲の境界値であったので、その方向に探索範囲を広げて再度実行する。"
      ]
    },
    {
      "cell_type": "code",
      "execution_count": null,
      "metadata": {
        "colab": {
          "base_uri": "https://localhost:8080/"
        },
        "id": "u9T1hKWsdlNJ",
        "outputId": "eeb09620-8517-43b4-fe93-e2a88159ba5b"
      },
      "outputs": [
        {
          "output_type": "stream",
          "name": "stdout",
          "text": [
            "accuracy = 0.96296\n",
            "SVC(C=10000, gamma=1e-05)\n"
          ]
        }
      ],
      "source": [
        "svc = SVC(kernel=\"rbf\")\n",
        "parameters = {\"C\": [10 ** i for i in range(-5, 5)],\n",
        "            'gamma': [10 ** i for i in range(-10, 1)], \n",
        "            }\n",
        "clf = GridSearchCV(svc,parameters)\n",
        "clf.fit(X_train, y_train)\n",
        "print(f'accuracy = {clf.score(X_test, y_test):.5}')\n",
        "rbf_best = clf.best_estimator_\n",
        "print(rbf_best)"
      ]
    },
    {
      "cell_type": "markdown",
      "metadata": {
        "id": "HMu6tmNNdlNK"
      },
      "source": [
        "これをカーネルがrbfのときの最適パラメータとする"
      ]
    },
    {
      "cell_type": "code",
      "execution_count": null,
      "metadata": {
        "colab": {
          "base_uri": "https://localhost:8080/"
        },
        "id": "q8zJiGnqdlNK",
        "outputId": "88f88caf-cada-4b5d-881c-909b56588904"
      },
      "outputs": [
        {
          "output_type": "stream",
          "name": "stdout",
          "text": [
            "accuracy = 0.96296\n",
            "SVC(C=0.1, kernel='linear')\n"
          ]
        }
      ],
      "source": [
        "svc = SVC(kernel=\"linear\")\n",
        "parameters = {\"C\": [10 ** i for i in range(-10, 10)],\n",
        "            }\n",
        "clf = GridSearchCV(svc,parameters)\n",
        "clf.fit(X_train, y_train)\n",
        "print(f'accuracy = {clf.score(X_test, y_test):.5}')\n",
        "linear_best = clf.best_estimator_\n",
        "print(linear_best)"
      ]
    },
    {
      "cell_type": "code",
      "execution_count": null,
      "metadata": {
        "colab": {
          "base_uri": "https://localhost:8080/"
        },
        "id": "DXByxfBndlNK",
        "outputId": "5ea1eee4-c489-438d-bcec-0c864222a2ec"
      },
      "outputs": [
        {
          "output_type": "stream",
          "name": "stdout",
          "text": [
            "accuracy = 0.96296\n",
            "SVC(C=1e-10, gamma=0.1, kernel='poly')\n"
          ]
        }
      ],
      "source": [
        "svc = SVC(kernel=\"poly\")\n",
        "parameters = {\"C\": [10 ** i for i in range(-10, 3)],\n",
        "              \"degree\": [ j for j in range(1, 5)],\n",
        "              'gamma': [10 ** i for i in range(-5, 1)]\n",
        "            }\n",
        "clf = GridSearchCV(svc,parameters)\n",
        "clf.fit(X_train, y_train)\n",
        "print(f'accuracy = {clf.score(X_test, y_test):.5}')\n",
        "poly_best = clf.best_estimator_\n",
        "print(poly_best)"
      ]
    },
    {
      "cell_type": "code",
      "execution_count": null,
      "metadata": {
        "colab": {
          "base_uri": "https://localhost:8080/"
        },
        "id": "KpktDvLydlNL",
        "outputId": "4e9cb58e-9fa2-4023-a304-0844695e7a72"
      },
      "outputs": [
        {
          "output_type": "stream",
          "name": "stdout",
          "text": [
            "accuracy = 0.81481\n",
            "SVC(C=100000, gamma=1e-07, kernel='sigmoid')\n"
          ]
        }
      ],
      "source": [
        "svc = SVC(kernel=\"sigmoid\")\n",
        "parameters = {\"C\": [10 ** i for i in range(-10, 6)],\n",
        "              'gamma': [10 ** i for i in range(-10, 1)]\n",
        "            }\n",
        "clf = GridSearchCV(svc,parameters)\n",
        "clf.fit(X_train, y_train)\n",
        "print(f'accuracy = {clf.score(X_test, y_test):.5}')\n",
        "poly_best = clf.best_estimator_\n",
        "print(poly_best)"
      ]
    },
    {
      "cell_type": "markdown",
      "source": [
        "以上から、accuracy scoreはそれぞれのカーネルとハイパーパラメータについていずれも0.96296で頭打ちとなった。"
      ],
      "metadata": {
        "id": "kBhG1dtgjeq6"
      }
    },
    {
      "cell_type": "markdown",
      "source": [
        "さらに性能を向上させるため、データを標準化し、再度同じグリッドサーチを行う"
      ],
      "metadata": {
        "id": "ihD0ESu0iH8k"
      }
    },
    {
      "cell_type": "code",
      "source": [
        "scaler.fit(X_train)\n",
        "X_train = scaler.transform(X_train)\n",
        "scaler.fit(X_test)\n",
        "X_test = scaler.transform(X_test)"
      ],
      "metadata": {
        "id": "LAimYzEiiGkl"
      },
      "execution_count": null,
      "outputs": []
    },
    {
      "cell_type": "code",
      "source": [
        "clf = SVC()\n",
        "clf.fit(X_train,y_train)\n",
        "base_score = clf.score(X_test, y_test)\n",
        "print(f'mean accuracy = {base_score:.4}')"
      ],
      "metadata": {
        "colab": {
          "base_uri": "https://localhost:8080/"
        },
        "id": "WQZP5XWvlfCd",
        "outputId": "8027af6e-39dc-481c-b484-d0d7c1c7c18d"
      },
      "execution_count": null,
      "outputs": [
        {
          "output_type": "stream",
          "name": "stdout",
          "text": [
            "mean accuracy = 1.0\n"
          ]
        }
      ]
    },
    {
      "cell_type": "code",
      "source": [
        "svc = SVC(kernel=\"rbf\")\n",
        "parameters = {\"C\": [10 ** i for i in range(-5, 5)],\n",
        "            'gamma': [10 ** i for i in range(-5, 1)], \n",
        "            }\n",
        "clf = GridSearchCV(svc,parameters)\n",
        "clf.fit(X_train, y_train)\n",
        "print(f'accuracy = {clf.score(X_test, y_test):.5}')\n",
        "rbf_best = clf.best_estimator_\n",
        "print(rbf_best)"
      ],
      "metadata": {
        "colab": {
          "base_uri": "https://localhost:8080/"
        },
        "id": "Gd89ilyKizds",
        "outputId": "0f4dcb45-51e9-4801-8f9f-6b2b3a45c161"
      },
      "execution_count": null,
      "outputs": [
        {
          "output_type": "stream",
          "name": "stdout",
          "text": [
            "accuracy = 1.0\n",
            "SVC(C=1, gamma=0.1)\n"
          ]
        }
      ]
    },
    {
      "cell_type": "code",
      "source": [
        "svc = SVC(kernel=\"rbf\")\n",
        "parameters = {\"C\": [10 ** i for i in range(-5, 5)],\n",
        "            'gamma': [10 ** i for i in range(-10, 1)], \n",
        "            }\n",
        "clf = GridSearchCV(svc,parameters)\n",
        "clf.fit(X_train, y_train)\n",
        "print(f'accuracy = {clf.score(X_test, y_test):.5}')\n",
        "rbf_best = clf.best_estimator_\n",
        "print(rbf_best)"
      ],
      "metadata": {
        "colab": {
          "base_uri": "https://localhost:8080/"
        },
        "id": "kQP4kY5Ti0bD",
        "outputId": "3fab7ae0-ddaa-403e-d6e9-470927e389b1"
      },
      "execution_count": null,
      "outputs": [
        {
          "output_type": "stream",
          "name": "stdout",
          "text": [
            "accuracy = 1.0\n",
            "SVC(C=1, gamma=0.1)\n"
          ]
        }
      ]
    },
    {
      "cell_type": "code",
      "source": [
        "svc = SVC(kernel=\"linear\")\n",
        "parameters = {\"C\": [10 ** i for i in range(-10, 10)],\n",
        "            }\n",
        "clf = GridSearchCV(svc,parameters)\n",
        "clf.fit(X_train, y_train)\n",
        "print(f'accuracy = {clf.score(X_test, y_test):.5}')\n",
        "linear_best = clf.best_estimator_\n",
        "print(linear_best)"
      ],
      "metadata": {
        "colab": {
          "base_uri": "https://localhost:8080/"
        },
        "id": "qwpMjOGDi4ht",
        "outputId": "102f0eab-cf0e-423f-a607-d8be43ee7cf9"
      },
      "execution_count": null,
      "outputs": [
        {
          "output_type": "stream",
          "name": "stdout",
          "text": [
            "accuracy = 1.0\n",
            "SVC(C=0.01, kernel='linear')\n"
          ]
        }
      ]
    },
    {
      "cell_type": "code",
      "source": [
        "svc = SVC(kernel=\"poly\")\n",
        "parameters = {\"C\": [10 ** i for i in range(-5, 6)],\n",
        "              \"degree\": [ j for j in range(1, 5)],\n",
        "              'gamma': [10 ** i for i in range(-5, 1)]\n",
        "            }\n",
        "clf = GridSearchCV(svc,parameters)\n",
        "clf.fit(X_train, y_train)\n",
        "print(f'accuracy = {clf.score(X_test, y_test):.5}')\n",
        "poly_best = clf.best_estimator_\n",
        "print(poly_best)"
      ],
      "metadata": {
        "colab": {
          "base_uri": "https://localhost:8080/"
        },
        "id": "sslKStqii6i7",
        "outputId": "b22be318-8005-4b0b-fb4e-5a50f92aa43a"
      },
      "execution_count": null,
      "outputs": [
        {
          "output_type": "stream",
          "name": "stdout",
          "text": [
            "accuracy = 1.0\n",
            "SVC(C=0.01, degree=1, gamma=1, kernel='poly')\n"
          ]
        }
      ]
    },
    {
      "cell_type": "code",
      "source": [
        "svc = SVC(kernel=\"sigmoid\")\n",
        "parameters = {\"C\": [10 ** i for i in range(-10, 6)],\n",
        "              'gamma': [10 ** i for i in range(-10, 1)]\n",
        "            }\n",
        "clf = GridSearchCV(svc,parameters)\n",
        "clf.fit(X_train, y_train)\n",
        "print(f'accuracy = {clf.score(X_test, y_test):.5}')\n",
        "poly_best = clf.best_estimator_\n",
        "print(poly_best)"
      ],
      "metadata": {
        "colab": {
          "base_uri": "https://localhost:8080/"
        },
        "id": "0TMmbkjUi8nd",
        "outputId": "2366949c-48d4-4acc-c34f-17d78fea8d76"
      },
      "execution_count": null,
      "outputs": [
        {
          "output_type": "stream",
          "name": "stdout",
          "text": [
            "accuracy = 0.98148\n",
            "SVC(C=0.1, gamma=0.1, kernel='sigmoid')\n"
          ]
        }
      ]
    },
    {
      "cell_type": "markdown",
      "source": [
        "データを標準化した結果、sigmoidカーネル以外では以外ではaccuracy scoreがが1となり、完全に識別ができていることわかる。\n",
        "グリッドサーチによって発見されたハイパーパラメータの値も、標準化前と比較して極端な数字でないことから、識別器の性能向上には性能向上にはパラメータチューニングのみならずデータの前処理が有効であることがわかる。"
      ],
      "metadata": {
        "id": "fPUGXM03jWGd"
      }
    }
  ],
  "metadata": {
    "colab": {
      "collapsed_sections": [],
      "name": "19122030_田中慎太郎_課題1.ipynb",
      "provenance": [],
      "include_colab_link": true
    },
    "kernelspec": {
      "display_name": "Python 3",
      "language": "python",
      "name": "python3"
    },
    "language_info": {
      "codemirror_mode": {
        "name": "ipython",
        "version": 3
      },
      "file_extension": ".py",
      "mimetype": "text/x-python",
      "name": "python",
      "nbconvert_exporter": "python",
      "pygments_lexer": "ipython3",
      "version": "3.7.9"
    }
  },
  "nbformat": 4,
  "nbformat_minor": 0
}